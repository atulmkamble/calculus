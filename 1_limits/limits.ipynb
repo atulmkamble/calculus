{
 "cells": [
  {
   "cell_type": "code",
   "execution_count": 1,
   "id": "031186ab-565a-4b15-90cd-8eb2a316e7e4",
   "metadata": {},
   "outputs": [],
   "source": [
    "from sympy import Symbol, limit, sin, oo"
   ]
  },
  {
   "cell_type": "code",
   "execution_count": 2,
   "id": "00990f97-13de-4395-98c6-81e03d44d4d1",
   "metadata": {},
   "outputs": [],
   "source": [
    "# Define the variable\n",
    "x = Symbol('x')"
   ]
  },
  {
   "cell_type": "code",
   "execution_count": 3,
   "id": "a94a3f90-a35c-4ead-8366-a565b5337e01",
   "metadata": {},
   "outputs": [],
   "source": [
    "# Define the functions\n",
    "f = 2 * x + 5\n",
    "g = sin(x) / x"
   ]
  },
  {
   "cell_type": "code",
   "execution_count": 4,
   "id": "5e0c9d4a-22ae-48dc-9916-f6bc5d800d2c",
   "metadata": {},
   "outputs": [],
   "source": [
    "# Calculate the limit as x approaches 3\n",
    "result1 = limit(f, x, 3)\n",
    "# Calculate the limit as x approaches 0\n",
    "result2 = limit(g, x, 0)\n",
    "# Calculate the limit as x approaches infinity\n",
    "result3 = limit(f, x, oo)"
   ]
  },
  {
   "cell_type": "code",
   "execution_count": 5,
   "id": "d1f06a70-230b-4581-9afc-af29b0bb5711",
   "metadata": {},
   "outputs": [
    {
     "name": "stdout",
     "output_type": "stream",
     "text": [
      "Limit as x approaches 3: 11\n",
      "Limit as x approaches 0: 1\n",
      "Limit as x approaches infinity (oo): oo\n"
     ]
    }
   ],
   "source": [
    "print(f'Limit as x approaches 3: {result1}')\n",
    "print(f'Limit as x approaches 0: {result2}')\n",
    "print(f'Limit as x approaches infinity (oo): {result3}')"
   ]
  }
 ],
 "metadata": {
  "kernelspec": {
   "display_name": "Python 3 (ipykernel)",
   "language": "python",
   "name": "python3"
  },
  "language_info": {
   "codemirror_mode": {
    "name": "ipython",
    "version": 3
   },
   "file_extension": ".py",
   "mimetype": "text/x-python",
   "name": "python",
   "nbconvert_exporter": "python",
   "pygments_lexer": "ipython3",
   "version": "3.9.18"
  }
 },
 "nbformat": 4,
 "nbformat_minor": 5
}
