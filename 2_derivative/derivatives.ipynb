{
 "cells": [
  {
   "cell_type": "code",
   "execution_count": 1,
   "id": "30c9b811-5def-4024-a007-0ee6698eac0c",
   "metadata": {},
   "outputs": [],
   "source": [
    "from sympy import limit, Symbol, Derivative, symbols\n",
    "import numdifftools as nd"
   ]
  },
  {
   "cell_type": "markdown",
   "id": "829000ab-f2ee-45bc-9c12-1d2ba11c39f4",
   "metadata": {},
   "source": [
    "### 1. Derivatives"
   ]
  },
  {
   "cell_type": "code",
   "execution_count": 2,
   "id": "835ad769-236e-46aa-9269-ba10b9cd4267",
   "metadata": {},
   "outputs": [
    {
     "data": {
      "text/latex": [
       "$\\displaystyle x$"
      ],
      "text/plain": [
       "x"
      ]
     },
     "execution_count": 2,
     "metadata": {},
     "output_type": "execute_result"
    }
   ],
   "source": [
    "x = Symbol('x')\n",
    "x"
   ]
  },
  {
   "cell_type": "code",
   "execution_count": 3,
   "id": "70e38d41-957f-430a-a4cc-ef12ccecee97",
   "metadata": {},
   "outputs": [
    {
     "data": {
      "text/latex": [
       "$\\displaystyle 5 x^{3} + 4 x^{2} + 3 x + 2$"
      ],
      "text/plain": [
       "5*x**3 + 4*x**2 + 3*x + 2"
      ]
     },
     "execution_count": 3,
     "metadata": {},
     "output_type": "execute_result"
    }
   ],
   "source": [
    "# Define the polynomial function\n",
    "Fx = 5*x**3 + 4*x**2 + 3*x + 2\n",
    "Fx"
   ]
  },
  {
   "cell_type": "code",
   "execution_count": 4,
   "id": "4bbd1838-3198-4b65-8429-a58efac108b6",
   "metadata": {},
   "outputs": [
    {
     "data": {
      "text/latex": [
       "$\\displaystyle \\frac{d}{d x} \\left(5 x^{3} + 4 x^{2} + 3 x + 2\\right)$"
      ],
      "text/plain": [
       "Derivative(5*x**3 + 4*x**2 + 3*x + 2, x)"
      ]
     },
     "execution_count": 4,
     "metadata": {},
     "output_type": "execute_result"
    }
   ],
   "source": [
    "# Initialize the derivative object\n",
    "Derivative(Fx, x)"
   ]
  },
  {
   "cell_type": "code",
   "execution_count": 5,
   "id": "00d27823-5559-4f63-bb03-2f83dcbfd1c2",
   "metadata": {},
   "outputs": [
    {
     "data": {
      "text/latex": [
       "$\\displaystyle 15 x^{2} + 8 x + 3$"
      ],
      "text/plain": [
       "15*x**2 + 8*x + 3"
      ]
     },
     "execution_count": 5,
     "metadata": {},
     "output_type": "execute_result"
    }
   ],
   "source": [
    "# Find the derivative\n",
    "Derivative(Fx, x).doit()"
   ]
  },
  {
   "cell_type": "code",
   "execution_count": 6,
   "id": "ece56988-817c-49a2-9d18-c4ccb7184dab",
   "metadata": {},
   "outputs": [
    {
     "data": {
      "text/plain": [
       "array(26.)"
      ]
     },
     "execution_count": 6,
     "metadata": {},
     "output_type": "execute_result"
    }
   ],
   "source": [
    "# Evaluation\n",
    "def f(x):\n",
    "    return 5*x**3 + 4*x**2 + 3*x + 2\n",
    "# Find the derivative at a specific point: x = 1\n",
    "df = nd.Derivative(f)\n",
    "df(1)"
   ]
  },
  {
   "cell_type": "markdown",
   "id": "c771a4a2-a7e5-4235-9b31-9bdf4962cbd0",
   "metadata": {},
   "source": [
    "### 2. Partial Derivatives"
   ]
  },
  {
   "cell_type": "code",
   "execution_count": 7,
   "id": "25aafa92-62e0-40d2-987a-0efd57551747",
   "metadata": {},
   "outputs": [
    {
     "name": "stdout",
     "output_type": "stream",
     "text": [
      "x, y, z\n"
     ]
    }
   ],
   "source": [
    "x, y, z = symbols('x y z', real= True)\n",
    "print(f\"{x}, {y}, {z}\")"
   ]
  },
  {
   "cell_type": "code",
   "execution_count": 8,
   "id": "c2861fee-d4fa-42ce-b6ab-75479a0f42e1",
   "metadata": {},
   "outputs": [
    {
     "data": {
      "text/latex": [
       "$\\displaystyle x^{2} + 5 x y z + y^{3} + z^{4}$"
      ],
      "text/plain": [
       "x**2 + 5*x*y*z + y**3 + z**4"
      ]
     },
     "execution_count": 8,
     "metadata": {},
     "output_type": "execute_result"
    }
   ],
   "source": [
    "Fxyz = x**2 + y**3 + z**4 + 5*x*y*z\n",
    "Fxyz"
   ]
  },
  {
   "cell_type": "code",
   "execution_count": 9,
   "id": "9f91b574-f765-4edd-bb7f-aca2b608efe4",
   "metadata": {},
   "outputs": [
    {
     "name": "stdout",
     "output_type": "stream",
     "text": [
      "Partial derivate w.r.t x: 2*x + 5*y*z\n",
      "Partial derivate w.r.t y: 5*x*z + 3*y**2\n",
      "Partial derivate w.r.t z: 5*x*y + 4*z**3\n"
     ]
    }
   ],
   "source": [
    "for var in [x, y, z]:\n",
    "    print(f\"Partial derivate w.r.t {var}: {Fxyz.diff(var)}\")"
   ]
  },
  {
   "cell_type": "code",
   "execution_count": 10,
   "id": "6864c079-7a7c-4585-9be9-ccf95266c45b",
   "metadata": {},
   "outputs": [
    {
     "data": {
      "text/latex": [
       "$\\displaystyle 2 x + 5 y z$"
      ],
      "text/plain": [
       "2*x + 5*y*z"
      ]
     },
     "execution_count": 10,
     "metadata": {},
     "output_type": "execute_result"
    }
   ],
   "source": [
    "#### Visual Representation\n",
    "Fxyz.diff(x)"
   ]
  },
  {
   "cell_type": "code",
   "execution_count": 11,
   "id": "e3fde58b-14ff-44ca-aef0-d599eabb62a8",
   "metadata": {},
   "outputs": [
    {
     "data": {
      "text/latex": [
       "$\\displaystyle 5 x z + 3 y^{2}$"
      ],
      "text/plain": [
       "5*x*z + 3*y**2"
      ]
     },
     "execution_count": 11,
     "metadata": {},
     "output_type": "execute_result"
    }
   ],
   "source": [
    "#### Visual Representation\n",
    "Fxyz.diff(y)"
   ]
  },
  {
   "cell_type": "code",
   "execution_count": 12,
   "id": "c8e6c502-92e6-497c-b9af-c1222ed9e6f0",
   "metadata": {},
   "outputs": [
    {
     "data": {
      "text/latex": [
       "$\\displaystyle 5 x y + 4 z^{3}$"
      ],
      "text/plain": [
       "5*x*y + 4*z**3"
      ]
     },
     "execution_count": 12,
     "metadata": {},
     "output_type": "execute_result"
    }
   ],
   "source": [
    "#### Visual Representation\n",
    "Fxyz.diff(z)"
   ]
  },
  {
   "cell_type": "code",
   "execution_count": 13,
   "id": "b8d15a95-0c5a-423c-8f81-214ea0c1bebb",
   "metadata": {},
   "outputs": [
    {
     "data": {
      "text/plain": [
       "array(32.)"
      ]
     },
     "execution_count": 13,
     "metadata": {},
     "output_type": "execute_result"
    }
   ],
   "source": [
    "# Evaluation\n",
    "def f(x, y, z):\n",
    "    return x**2 + y**3 + z**4 + 5*x*y*z\n",
    "# Find the derivative at a specific point: x = 1, y = 2, z = 3\n",
    "df = nd.Derivative(f)\n",
    "df(1, 2, 3)"
   ]
  }
 ],
 "metadata": {
  "kernelspec": {
   "display_name": "Python 3 (ipykernel)",
   "language": "python",
   "name": "python3"
  },
  "language_info": {
   "codemirror_mode": {
    "name": "ipython",
    "version": 3
   },
   "file_extension": ".py",
   "mimetype": "text/x-python",
   "name": "python",
   "nbconvert_exporter": "python",
   "pygments_lexer": "ipython3",
   "version": "3.9.18"
  }
 },
 "nbformat": 4,
 "nbformat_minor": 5
}
