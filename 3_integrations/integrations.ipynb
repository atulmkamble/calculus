{
 "cells": [
  {
   "cell_type": "code",
   "execution_count": 1,
   "id": "30c9b811-5def-4024-a007-0ee6698eac0c",
   "metadata": {},
   "outputs": [],
   "source": [
    "from sympy import symbols, integrate"
   ]
  },
  {
   "cell_type": "markdown",
   "id": "829000ab-f2ee-45bc-9c12-1d2ba11c39f4",
   "metadata": {},
   "source": [
    "### 1. Indefinite Integral"
   ]
  },
  {
   "cell_type": "code",
   "execution_count": 2,
   "id": "835ad769-236e-46aa-9269-ba10b9cd4267",
   "metadata": {},
   "outputs": [
    {
     "data": {
      "text/latex": [
       "$\\displaystyle x$"
      ],
      "text/plain": [
       "x"
      ]
     },
     "execution_count": 2,
     "metadata": {},
     "output_type": "execute_result"
    }
   ],
   "source": [
    "x = symbols('x')\n",
    "x"
   ]
  },
  {
   "cell_type": "code",
   "execution_count": 3,
   "id": "70e38d41-957f-430a-a4cc-ef12ccecee97",
   "metadata": {},
   "outputs": [
    {
     "data": {
      "text/latex": [
       "$\\displaystyle 5 x^{3} + 4 x^{2} + 3 x + 2$"
      ],
      "text/plain": [
       "5*x**3 + 4*x**2 + 3*x + 2"
      ]
     },
     "execution_count": 3,
     "metadata": {},
     "output_type": "execute_result"
    }
   ],
   "source": [
    "# Define the polynomial function\n",
    "Fx = 5*x**3 + 4*x**2 + 3*x + 2\n",
    "Fx"
   ]
  },
  {
   "cell_type": "code",
   "execution_count": 4,
   "id": "4bbd1838-3198-4b65-8429-a58efac108b6",
   "metadata": {},
   "outputs": [
    {
     "data": {
      "text/latex": [
       "$\\displaystyle \\frac{5 x^{4}}{4} + \\frac{4 x^{3}}{3} + \\frac{3 x^{2}}{2} + 2 x$"
      ],
      "text/plain": [
       "5*x**4/4 + 4*x**3/3 + 3*x**2/2 + 2*x"
      ]
     },
     "execution_count": 4,
     "metadata": {},
     "output_type": "execute_result"
    }
   ],
   "source": [
    "# Indefinite integration\n",
    "integrate(Fx, x)"
   ]
  },
  {
   "cell_type": "markdown",
   "id": "c771a4a2-a7e5-4235-9b31-9bdf4962cbd0",
   "metadata": {},
   "source": [
    "### 2. Definite Integral"
   ]
  },
  {
   "cell_type": "code",
   "execution_count": 5,
   "id": "b9863e3e-a6a6-420d-9420-c36efd0a863a",
   "metadata": {},
   "outputs": [
    {
     "data": {
      "text/latex": [
       "$\\displaystyle x$"
      ],
      "text/plain": [
       "x"
      ]
     },
     "execution_count": 5,
     "metadata": {},
     "output_type": "execute_result"
    }
   ],
   "source": [
    "x = symbols('x')\n",
    "x"
   ]
  },
  {
   "cell_type": "code",
   "execution_count": 6,
   "id": "844120d3-efea-471e-88fd-64779cef78fd",
   "metadata": {},
   "outputs": [
    {
     "data": {
      "text/latex": [
       "$\\displaystyle 5 x^{3} + 4 x^{2} + 3 x + 2$"
      ],
      "text/plain": [
       "5*x**3 + 4*x**2 + 3*x + 2"
      ]
     },
     "execution_count": 6,
     "metadata": {},
     "output_type": "execute_result"
    }
   ],
   "source": [
    "# Define the polynomial function\n",
    "Fx = 5*x**3 + 4*x**2 + 3*x + 2\n",
    "Fx"
   ]
  },
  {
   "cell_type": "code",
   "execution_count": 7,
   "id": "76748686-af37-48e9-bdeb-adc9014cd218",
   "metadata": {},
   "outputs": [
    {
     "data": {
      "text/latex": [
       "$\\displaystyle \\frac{73}{12}$"
      ],
      "text/plain": [
       "73/12"
      ]
     },
     "execution_count": 7,
     "metadata": {},
     "output_type": "execute_result"
    }
   ],
   "source": [
    "# Indefinite integration\n",
    "integrate(Fx, (x, 0, 1))"
   ]
  },
  {
   "cell_type": "code",
   "execution_count": null,
   "id": "4e5fdc00-e473-4f20-bbb5-bd4d8a1f3c3b",
   "metadata": {},
   "outputs": [],
   "source": []
  }
 ],
 "metadata": {
  "kernelspec": {
   "display_name": "Python 3 (ipykernel)",
   "language": "python",
   "name": "python3"
  },
  "language_info": {
   "codemirror_mode": {
    "name": "ipython",
    "version": 3
   },
   "file_extension": ".py",
   "mimetype": "text/x-python",
   "name": "python",
   "nbconvert_exporter": "python",
   "pygments_lexer": "ipython3",
   "version": "3.9.18"
  }
 },
 "nbformat": 4,
 "nbformat_minor": 5
}
